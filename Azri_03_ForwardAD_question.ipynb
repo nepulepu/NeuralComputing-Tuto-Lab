{
  "nbformat": 4,
  "nbformat_minor": 0,
  "metadata": {
    "colab": {
      "name": "Azri_ 03_ForwardAD_question.ipynb",
      "provenance": []
    },
    "kernelspec": {
      "name": "python3",
      "display_name": "Python 3"
    },
    "language_info": {
      "name": "python"
    }
  },
  "cells": [
    {
      "cell_type": "markdown",
      "source": [
        "Demo"
      ],
      "metadata": {
        "id": "gci0J-nmsMW4"
      }
    },
    {
      "cell_type": "code",
      "source": [
        "import math \n",
        "\n",
        "x = 0.5\n",
        "y = 4.2\n",
        "b =  math.sin(x)\n",
        "a = x*y\n",
        "z = a + b\n",
        "\n",
        "\n",
        "dx = 1\n",
        "dy = 0\n",
        "da = x*dy + y*dx #product rule\n",
        "db = math.cos(x)*dx #chain rule\n",
        "dz = da + db #sum rule\n",
        "\n",
        "print('z = ',z)\n",
        "print('dz/dy = ',dz)\n",
        "\n",
        "\n"
      ],
      "metadata": {
        "colab": {
          "base_uri": "https://localhost:8080/"
        },
        "id": "uHAfoB0jsLmi",
        "outputId": "a5832238-53bd-4ab4-d905-935b2d4de780"
      },
      "execution_count": 2,
      "outputs": [
        {
          "output_type": "stream",
          "name": "stdout",
          "text": [
            "z =  2.579425538604203\n",
            "dz/dy =  5.077582561890373\n"
          ]
        }
      ]
    },
    {
      "cell_type": "markdown",
      "source": [
        "# Forward Mode Automatic Differentiation (AD)\n",
        "\n",
        "Forward mode AD can simply be implemented by defining a class to represent [dual numbers](https://en.wikipedia.org/wiki/Dual_number) which hold the value and its derivative. The following code defines a dual number and implements multiplication. \n",
        "\n",
        "Tasks:\n",
        "\n",
        "1. Addition (`__add__`) is incomplete - Please complete it \n",
        "2. Implement division (`__truediv__`), subtraction (`__sub__`) and power (`__pow__`) as well"
      ],
      "metadata": {
        "id": "PuyazVrdhVtM"
      }
    },
    {
      "cell_type": "code",
      "execution_count": 3,
      "metadata": {
        "id": "_ACPZb-NhER1"
      },
      "outputs": [],
      "source": [
        "import math \n",
        "\n",
        "class DualNumber:\n",
        "  def __init__(self,value,dvalue): #x (self value, derivative of self value)\n",
        "    self.value = value\n",
        "    self.dvalue = dvalue #derivative\n",
        "\n",
        "  def __str__(self):\n",
        "    return str(self.value) + \" + \" + str(self.dvalue) + \"ε\"\n",
        "\n",
        "  def __mul__(self,other): #multiplication x*y, udv+vdu (product)\n",
        "    return DualNumber(self.value*other.value,self.value*other.dvalue+other.value*self.dvalue)\n",
        "\n",
        "  def __add__(self,other):\n",
        "    return DualNumber(self.value+other.value, self.dvalue+other.dvalue)\n",
        "\n",
        "  def __sub__(self,other):\n",
        "    return DualNumber(self.value-other.value, self.dvalue-other.dvalue)\n",
        "\n",
        "  def __truediv__(self,other):\n",
        "    return DualNumber(self.value/other.value, (self.dvalue*other.value-self.value*other.dvalue)/(other.value**2))\n",
        "\n",
        "  def __pow__(self,other):\n",
        "    partial = other.value*(self.value**(other.value-1))*self.dvalue\n",
        "    if other.dvalue == 0:       \n",
        "        return DualNumber(self.value**other.value,partial)  \n",
        "    else:\n",
        "        return DualNumber(self.value**other.value, partial + (self.value**other.value)*math.log(self.value)*other.dvalue)\n",
        "\n",
        "\n",
        "    \n"
      ]
    },
    {
      "cell_type": "markdown",
      "source": [
        "## Test your dual number functions "
      ],
      "metadata": {
        "id": "5BxHyC-Ghi06"
      }
    },
    {
      "cell_type": "code",
      "source": [
        "x = DualNumber(1,0.5)\n",
        "y = DualNumber(2,0.7) \n",
        "z = x/y\n",
        "print('x ',x)\n",
        "print('y ',y)\n",
        "print('z ',z)\n",
        "\n",
        "# Tests\n",
        "result = DualNumber(1,0) + DualNumber(1,0) / DualNumber(1,0) - DualNumber(1,0)**DualNumber(1,0)"
      ],
      "metadata": {
        "id": "p3GjfEzHhna5",
        "colab": {
          "base_uri": "https://localhost:8080/"
        },
        "outputId": "3bb8d8fe-8f56-4766-919b-119b608d9edc"
      },
      "execution_count": 4,
      "outputs": [
        {
          "output_type": "stream",
          "name": "stdout",
          "text": [
            "x  1 + 0.5ε\n",
            "y  2 + 0.7ε\n",
            "z  0.5 + 0.07500000000000001ε\n"
          ]
        }
      ]
    },
    {
      "cell_type": "markdown",
      "source": [
        "#Implementing other math functions\n",
        "\n",
        "We also need to implement some core math functions. What is the sine fuction for a dual number ?"
      ],
      "metadata": {
        "id": "0Txtit_s101O"
      }
    },
    {
      "cell_type": "code",
      "source": [
        "def sin(x):\n",
        "  return DualNumber(math.sin(x.value), math.cos(x.value)*x.dvalue)\n",
        "\n",
        "\n",
        "#Task: implement the cosine, tangent and exponential functions below\n",
        "def cos(x):\n",
        "  return DualNumber(math.cos(x.value),-math.sin(x.value)*x.dvalue)\n",
        "\n",
        "def tan(x):\n",
        "  return DualNumber(math.tan(x.value),(-1/(math.cos(x.value)**2))*x.dvalue)\n",
        "\n",
        "def exp(x):\n",
        "  return DualNumber(math.exp(x.value),math.exp(x.value)*x.dvalue)"
      ],
      "metadata": {
        "id": "27ExiePH2ANe"
      },
      "execution_count": 5,
      "outputs": []
    },
    {
      "cell_type": "markdown",
      "source": [
        "#Putting it all together\n",
        "\n",
        "1. Write a code to compute the value of the function $z=x\\cdot y+sin(x)$ given $x=0.5$ and $y=4.2$, together with the derivative $\\partial z/\\partial x$ at that point. "
      ],
      "metadata": {
        "id": "eD2x6aJ14cwm"
      }
    },
    {
      "cell_type": "code",
      "source": [
        "#if you solve the above equation manually, you should get dz/dx=y+cos(x) and dz/dy=x\n",
        "\n",
        "#To get the derivatives d/dx, set d/dx=1 and d/dy=0\n",
        "#To get d/dy, do the opposite\n",
        "\n",
        "x= DualNumber(0.5,1)\n",
        "y= DualNumber(4.2,0)\n",
        "z= x*y+sin(x)\n",
        "dz = y+cos(x)\n",
        "print(z)\n",
        "print(dz)\n",
        "\n"
      ],
      "metadata": {
        "id": "R3whQgK14lwX",
        "colab": {
          "base_uri": "https://localhost:8080/"
        },
        "outputId": "49a5fa4b-6a38-4069-ca51-b2463a12fc0d"
      },
      "execution_count": 10,
      "outputs": [
        {
          "output_type": "stream",
          "name": "stdout",
          "text": [
            "2.579425538604203 + 5.077582561890373ε\n",
            "5.077582561890373 + -0.479425538604203ε\n"
          ]
        }
      ]
    },
    {
      "cell_type": "markdown",
      "source": [
        "Differentiate the above function with respect to  x  and write the symbolic derivatives. Verify the result computed above is correct by plugging-in the values into your symbolic gradient expression.\n",
        "\n",
        "Compute the derivative  ∂z/∂y  of the above expression (at the same point  x=0.5,y=4.2  as above). Verify by hand that the result is correct.\n",
        "\n",
        "Experiment with other math functions and methods you created"
      ],
      "metadata": {
        "id": "7__R_A9Q4mGE"
      }
    }
  ]
}
