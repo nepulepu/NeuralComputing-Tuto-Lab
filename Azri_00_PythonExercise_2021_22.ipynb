{
  "nbformat": 4,
  "nbformat_minor": 0,
  "metadata": {
    "colab": {
      "name": "azri_00_PythonExercise_2021_22.ipynb",
      "provenance": [],
      "collapsed_sections": []
    },
    "kernelspec": {
      "name": "python3",
      "display_name": "Python 3"
    }
  },
  "cells": [
    {
      "cell_type": "markdown",
      "source": [
        "#About Dot Product\n",
        "\n",
        "1.   What is the meaning of dot product\n",
        "2.   Why do we do dot product?\n",
        "3.   When do we use dot product?\n",
        "4.   When can we use dot product?\n",
        "\n",
        "\n"
      ],
      "metadata": {
        "id": "5Z8-hB_igN9c"
      }
    },
    {
      "cell_type": "markdown",
      "source": [
        "#Task\n",
        "\n",
        "1.   Generate 2 random matrices of 5x5 size\n",
        "2.   Do dot product\n",
        "\n",
        "\n"
      ],
      "metadata": {
        "id": "C-Dd12lDgpGc"
      }
    },
    {
      "cell_type": "markdown",
      "metadata": {
        "id": "pXIGoa1WhXnW"
      },
      "source": [
        "#Basic numpy\n",
        "\n",
        "1. Play around with numpy -there are many tutorials that you can google it.\n",
        "2. Comfortable enough with arrays, list,\n",
        "indexing, access elements, how to reassign values.\n",
        "3. For loops with arrays.\n",
        "4. Can create functions( take input parameters, return a value)\n",
        "\n",
        "\n"
      ]
    },
    {
      "cell_type": "code",
      "metadata": {
        "colab": {
          "base_uri": "https://localhost:8080/"
        },
        "id": "kEv8lNbigfWd",
        "outputId": "36bf536c-8be5-48ab-8591-a087012fe366"
      },
      "source": [
        "import numpy as np\n",
        "\n",
        "arr = np.array([1,2,3])\n",
        "\n",
        "print(arr)\n",
        "\n",
        "arr2d = np.array([[1,2,3],[4,5,6]])\n",
        "print(arr2d)\n",
        "\n",
        "print('--for loops by rows here---')\n",
        "for item in arr2d:\n",
        "  print('item: ',item)\n",
        "\n",
        "for rows in range(2):\n",
        "  for columns in range(3):\n",
        "    print(arr2d[rows,columns])\n",
        "#there is much better ways of doing this \n",
        "\n",
        "#Function\n",
        "def addition(x,y):\n",
        "  return x+y\n",
        "\n",
        "print(\"3+2 is \",addition(3,2))  \n"
      ],
      "execution_count": null,
      "outputs": [
        {
          "output_type": "stream",
          "name": "stdout",
          "text": [
            "[1 2 3]\n",
            "[[1 2 3]\n",
            " [4 5 6]]\n",
            "--for loops by rows here---\n",
            "item:  [1 2 3]\n",
            "item:  [4 5 6]\n",
            "1\n",
            "2\n",
            "3\n",
            "4\n",
            "5\n",
            "6\n",
            "3+2 is  5\n"
          ]
        }
      ]
    },
    {
      "cell_type": "markdown",
      "metadata": {
        "id": "TcKrIY_CpLUP"
      },
      "source": [
        "#Summation of array"
      ]
    },
    {
      "cell_type": "code",
      "metadata": {
        "colab": {
          "base_uri": "https://localhost:8080/"
        },
        "id": "xnpXJITUpKvI",
        "outputId": "5d117a81-3c90-41eb-8b99-686d126c980a"
      },
      "source": [
        "arr= np.random.rand(3)\n",
        "print('array: ',arr,'sum of array: ',arr.sum())"
      ],
      "execution_count": null,
      "outputs": [
        {
          "output_type": "stream",
          "text": [
            "array: \n",
            " [0.80525451 0.68680372 0.02110816] sum of array:  1.5131663897863739\n"
          ],
          "name": "stdout"
        }
      ]
    },
    {
      "cell_type": "markdown",
      "metadata": {
        "id": "ZhFmlFsTzGtc"
      },
      "source": [
        "# Transpose, dot product\n",
        "1. Randomly initialize two vectors **a** and **b** of the same dimension\n",
        "2. Perform dot product c = **a.b**\n",
        "\n",
        "#Matrix multiplication\n",
        "1. Randomly initialize two matrices **A** and **B** of the same (inner) dimension\n",
        "2. Perform matrix multiplication  **AB** and **BA** (when is this possible?)\n",
        "3. Does **AB**= **BA**? If not, how do we set so that **AB**= **BA**?\n"
      ]
    },
    {
      "cell_type": "code",
      "metadata": {
        "id": "Rx5ATupFzGSy",
        "colab": {
          "base_uri": "https://localhost:8080/"
        },
        "outputId": "f1c4295c-6ffa-426c-b554-2693c4e73e29"
      },
      "source": [
        "array_a= np.random.rand(3)\n",
        "array_b= np.random.rand(3,1)\n",
        "array_c= np.dot(array_a,array_b)\n",
        "print(array_a)\n",
        "print(array_b)\n",
        "print(array_c)\n",
        "# YOUR CODE HERE\n",
        "# raise NotImplementedError()"
      ],
      "execution_count": null,
      "outputs": [
        {
          "output_type": "stream",
          "name": "stdout",
          "text": [
            "[0.22984994 0.1179611  0.25981636]\n",
            "[[0.84230379]\n",
            " [0.02953364]\n",
            " [0.8922654 ]]\n",
            "[0.42891245]\n"
          ]
        }
      ]
    },
    {
      "cell_type": "markdown",
      "metadata": {
        "id": "9bTscTVyhYqu"
      },
      "source": [
        "#Random seed\n",
        "\n",
        "For reproducibility. Pseudo random generators are not actually random, but deterministic in a sense. "
      ]
    },
    {
      "cell_type": "code",
      "metadata": {
        "id": "PGzFm_nChdbV",
        "outputId": "ad08a71c-c7d4-42b5-ac1c-57aebbd46987",
        "colab": {
          "base_uri": "https://localhost:8080/"
        }
      },
      "source": [
        "import random\n",
        "random.seed(3)\n",
        "print(random.random())\n",
        "random.seed(10)\n",
        "print(random.random())\n",
        "\n",
        "\n",
        "print(\"--------\")\n",
        "for i in range(11):\n",
        "  random.seed(i)\n",
        "  print(random.random())\n"
      ],
      "execution_count": null,
      "outputs": [
        {
          "output_type": "stream",
          "name": "stdout",
          "text": [
            "0.23796462709189137\n",
            "0.5714025946899135\n",
            "--------\n",
            "0.8444218515250481\n",
            "0.13436424411240122\n",
            "0.9560342718892494\n",
            "0.23796462709189137\n",
            "0.23604808973743452\n",
            "0.6229016948897019\n",
            "0.793340083761663\n",
            "0.32383276483316237\n",
            "0.2267058593810488\n",
            "0.46300735781502145\n",
            "0.5714025946899135\n"
          ]
        }
      ]
    },
    {
      "cell_type": "markdown",
      "metadata": {
        "id": "u4GhkKdQAaRO"
      },
      "source": [
        "#Torch exercise \n",
        "-To change the shape of an array in torch/tensor, use view and re assign the variable. view() is like np.reshape() \n"
      ]
    },
    {
      "cell_type": "code",
      "metadata": {
        "colab": {
          "base_uri": "https://localhost:8080/"
        },
        "id": "Hm1xjPDqAle0",
        "outputId": "b8543226-60ca-45f4-a3e2-309e2526987f"
      },
      "source": [
        "import torch\n",
        "print(\"\\n---A 4x4 tensor----\\n\")\n",
        "a=torch.rand(4,4)\n",
        "print(a)\n",
        "\n",
        "print(\"\\n---Reshaped tensor to 8x2----\\n\")\n",
        "a = a.view(8,2)\n",
        "print(a)\n",
        "\n",
        "print(\"\\n---Flattens the tensor into a vector----\\n\")\n",
        "a = a.view(-1)\n",
        "print(a)"
      ],
      "execution_count": null,
      "outputs": [
        {
          "output_type": "stream",
          "name": "stdout",
          "text": [
            "\n",
            "---A 4x4 tensor----\n",
            "\n",
            "tensor([[0.5145, 0.9429, 0.8641, 0.6131],\n",
            "        [0.3597, 0.1489, 0.3395, 0.1210],\n",
            "        [0.7787, 0.7758, 0.9451, 0.4236],\n",
            "        [0.5797, 0.4193, 0.7265, 0.0372]])\n",
            "\n",
            "---Reshaped tensor to 8x2----\n",
            "\n",
            "tensor([[0.5145, 0.9429],\n",
            "        [0.8641, 0.6131],\n",
            "        [0.3597, 0.1489],\n",
            "        [0.3395, 0.1210],\n",
            "        [0.7787, 0.7758],\n",
            "        [0.9451, 0.4236],\n",
            "        [0.5797, 0.4193],\n",
            "        [0.7265, 0.0372]])\n",
            "\n",
            "---Flattens the tensor into a vector----\n",
            "\n",
            "tensor([0.5145, 0.9429, 0.8641, 0.6131, 0.3597, 0.1489, 0.3395, 0.1210, 0.7787,\n",
            "        0.7758, 0.9451, 0.4236, 0.5797, 0.4193, 0.7265, 0.0372])\n"
          ]
        }
      ]
    },
    {
      "cell_type": "code",
      "metadata": {
        "colab": {
          "base_uri": "https://localhost:8080/"
        },
        "id": "YQ26TA7kTp0w",
        "outputId": "003e7ffa-8a51-40f1-e45a-235cf7b4b091"
      },
      "source": [
        "\n",
        "import numpy as np\n",
        "X = np.array([[-1, -1], [-1, 1], [1, -1], [1, 1]])\n",
        "print(X)"
      ],
      "execution_count": null,
      "outputs": [
        {
          "output_type": "stream",
          "name": "stdout",
          "text": [
            "[[-1 -1]\n",
            " [-1  1]\n",
            " [ 1 -1]\n",
            " [ 1  1]]\n"
          ]
        }
      ]
    }
  ]
}